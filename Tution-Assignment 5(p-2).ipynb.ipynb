{
 "cells": [
  {
   "cell_type": "code",
   "execution_count": 3,
   "id": "e089d8da-a053-450e-8171-6266daa465f8",
   "metadata": {},
   "outputs": [
    {
     "name": "stdin",
     "output_type": "stream",
     "text": [
      "Enter angle A:  99\n",
      "Enter angle B:  46\n",
      "Enter angle C:  83\n"
     ]
    },
    {
     "name": "stdout",
     "output_type": "stream",
     "text": [
      "0\n"
     ]
    }
   ],
   "source": [
    "#  You are given 3 integer angles(in degrees) A, B and C of a triangle. You \n",
    "# have to tell whether the triangle is valid or not.\n",
    "#  A triangle is valid if sum of its angles equals to 180\n",
    "\n",
    "\n",
    "A = int(input(\"Enter angle A: \"))\n",
    "B = int(input(\"Enter angle B: \"))\n",
    "C = int(input(\"Enter angle C: \"))\n",
    "\n",
    "\n",
    "if A + B + C == 180:\n",
    "    print(\"1\")   \n",
    "else:\n",
    "    print(\"0\")  "
   ]
  },
  {
   "cell_type": "code",
   "execution_count": 5,
   "id": "be4d2bea-80aa-4a69-8c18-e6407bab9577",
   "metadata": {},
   "outputs": [
    {
     "name": "stdin",
     "output_type": "stream",
     "text": [
      "Enter first number (A):  5\n",
      "Enter second number (B):  4\n"
     ]
    },
    {
     "name": "stdout",
     "output_type": "stream",
     "text": [
      "5\n"
     ]
    }
   ],
   "source": [
    "#  Write a program to input two numbers(A & B) from user and print the \n",
    "# maximum element among A & B\n",
    "\n",
    "A = int(input(\"Enter first number (A): \"))\n",
    "B = int(input(\"Enter second number (B): \"))\n",
    "\n",
    "\n",
    "if 1 <= A <= 1000000 and 1 <= B <= 1000000:\n",
    "    print(max(A, B))\n",
    "else:\n",
    "    print(\"Values out of range!\")"
   ]
  },
  {
   "cell_type": "code",
   "execution_count": 7,
   "id": "d0a0625b-2b35-4543-8575-b2b8adb93796",
   "metadata": {},
   "outputs": [
    {
     "name": "stdin",
     "output_type": "stream",
     "text": [
      "Enter Cost Price (C):  80\n",
      "Enter Selling Price (S):  955\n"
     ]
    },
    {
     "name": "stdout",
     "output_type": "stream",
     "text": [
      "1\n",
      "875\n"
     ]
    }
   ],
   "source": [
    "#  You are given the Cost Price C and Selling Price S of a Product. You have to \n",
    "# # tell whether there is a Profit or Loss. Also, calculate total profit or loss.\n",
    "\n",
    "C = int(input(\"Enter Cost Price (C): \"))\n",
    "S = int(input(\"Enter Selling Price (S): \"))\n",
    "\n",
    "if 1 <= C <= 10**9 and 1 <= S <= 10**9 and C != S:\n",
    "    if S > C:\n",
    "        print(1)            \n",
    "        print(S - C)        \n",
    "    else:\n",
    "        print(-1)           \n",
    "        print(C - S)        \n",
    "else:\n",
    "    print(\"Invalid input!\")"
   ]
  },
  {
   "cell_type": "code",
   "execution_count": 9,
   "id": "730f14ec-b0f0-4ff5-9c28-15834ef8964d",
   "metadata": {},
   "outputs": [
    {
     "name": "stdin",
     "output_type": "stream",
     "text": [
      "Enter a number:  56\n"
     ]
    },
    {
     "name": "stdout",
     "output_type": "stream",
     "text": [
      "Even-Positive\n"
     ]
    }
   ],
   "source": [
    "#  Given the number N, Categorise the number according to following \n",
    "# condition 1. Odd-Positive2. Odd-Negative3. Even-Positive4. Even\n",
    "# NegativeNote  Intention of problem is to teach you Nested If-Else, so try to \n",
    "# solve this problem using nested if-else\n",
    "\n",
    "N = int(input(\"Enter a number: \"))\n",
    "\n",
    "if -10000 <= N <= 10000 and N != 0:\n",
    "    if N > 0:\n",
    "        if N % 2 == 0:\n",
    "            print(\"Even-Positive\")\n",
    "        else:\n",
    "            print(\"Odd-Positive\")\n",
    "    else:  # N < 0\n",
    "        if N % 2 == 0:\n",
    "            print(\"Even-Negative\")\n",
    "        else:\n",
    "            print(\"Odd-Negative\")\n",
    "else:\n",
    "    print(\"Invalid input!\")"
   ]
  },
  {
   "cell_type": "code",
   "execution_count": null,
   "id": "aa8d40b4-4c04-4d64-beb4-99d2453a3d18",
   "metadata": {},
   "outputs": [],
   "source": []
  }
 ],
 "metadata": {
  "kernelspec": {
   "display_name": "Python [conda env:base] *",
   "language": "python",
   "name": "conda-base-py"
  },
  "language_info": {
   "codemirror_mode": {
    "name": "ipython",
    "version": 3
   },
   "file_extension": ".py",
   "mimetype": "text/x-python",
   "name": "python",
   "nbconvert_exporter": "python",
   "pygments_lexer": "ipython3",
   "version": "3.12.7"
  }
 },
 "nbformat": 4,
 "nbformat_minor": 5
}
