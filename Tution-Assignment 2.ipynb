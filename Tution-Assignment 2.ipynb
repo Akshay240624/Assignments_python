{
 "cells": [
  {
   "cell_type": "code",
   "execution_count": 1,
   "id": "d654db4b-7247-4e98-901e-e0d49676942e",
   "metadata": {},
   "outputs": [
    {
     "name": "stdout",
     "output_type": "stream",
     "text": [
      "Value of age: 25\n",
      "Data type of age: <class 'int'>\n"
     ]
    }
   ],
   "source": [
    "#  Question 1\n",
    "#  Create a variable \n",
    "# age and assign it the value \n",
    "# 25 . Then print the value of \n",
    "# age along with its data type using the \n",
    "# type() function\n",
    "\n",
    "age = 25\n",
    "print(\"Value of age:\", age)\n",
    "print(\"Data type of age:\", type(age))"
   ]
  },
  {
   "cell_type": "code",
   "execution_count": 3,
   "id": "78813a04-14f7-4b0d-9c27-34682212d2eb",
   "metadata": {},
   "outputs": [
    {
     "name": "stdout",
     "output_type": "stream",
     "text": [
      "Value of variable: price\n",
      "Data type of variable: <class 'str'>\n"
     ]
    }
   ],
   "source": [
    "#  Question 2\n",
    "#  Assign the number \n",
    "# 12.5 to a variable \n",
    "# data type. Then assign the value \n",
    "# price . Print both the variable and its \n",
    "# 12 to the same variable and print its data \n",
    "# type again. What do you observe\n",
    "\n",
    "data_type = 12.5\n",
    "data_type = 12\n",
    "data_type = \"price\"\n",
    "\n",
    "print(\"Value of variable:\", data_type)\n",
    "print(\"Data type of variable:\", type(data_type))\n"
   ]
  },
  {
   "cell_type": "code",
   "execution_count": 5,
   "id": "95c8da60-fe93-4b1f-8c45-548cb49984ac",
   "metadata": {},
   "outputs": [
    {
     "name": "stdout",
     "output_type": "stream",
     "text": [
      "Value of is_raining: True\n",
      "Data type of is_raining: <class 'bool'>\n",
      "New value of is_raining: False\n",
      "Data type of is_raining: <class 'bool'>\n"
     ]
    }
   ],
   "source": [
    "#  Question 3\n",
    "#  Create a variable \n",
    "# is_raining and set it to \n",
    "# True . Print the value of the variable \n",
    "# along with its type. Then set \n",
    "# is_raining to \n",
    "# False and print the new value and \n",
    "# type\n",
    "\n",
    "\n",
    "is_raining = True\n",
    "print(\"Value of is_raining:\", is_raining)\n",
    "print(\"Data type of is_raining:\", type(is_raining))\n",
    "is_raining = False\n",
    "\n",
    "print(\"New value of is_raining:\", is_raining)\n",
    "print(\"Data type of is_raining:\", type(is_raining))\n"
   ]
  },
  {
   "cell_type": "code",
   "execution_count": 9,
   "id": "1929fd5b-9c5e-4773-85df-5f62514661e3",
   "metadata": {},
   "outputs": [
    {
     "name": "stdout",
     "output_type": "stream",
     "text": [
      "My name is: Akshay Yashwant Bharmal\n"
     ]
    }
   ],
   "source": [
    "# Question 4\n",
    "#  Create a variable \n",
    "# my_name and store your full name in it as a string. Then \n",
    "# print the value of \n",
    "# my_name using single quotes\n",
    "\n",
    "my_name = \"Akshay Yashwant Bharmal\" \n",
    "\n",
    "print('My name is:', my_name)\n"
   ]
  },
  {
   "cell_type": "code",
   "execution_count": 11,
   "id": "b32ca38f-1d76-4398-a73f-8b6a02f0e11f",
   "metadata": {},
   "outputs": [
    {
     "name": "stdin",
     "output_type": "stream",
     "text": [
      "Enter your name:  akshay\n",
      "Enter your age:  21\n"
     ]
    },
    {
     "name": "stdout",
     "output_type": "stream",
     "text": [
      "Hello, akshay! You are 21 years old.\n"
     ]
    }
   ],
   "source": [
    "# Question 5\n",
    "#  ' .\n",
    "#  Write a Python program that asks the user for their name and age using the \n",
    "# input() function. Store the inputs in variables and print a sentence like \n",
    "# \"Hello, Name]! You are [Age] years old.\" Ensure you cast the age to an \n",
    "# integer\n",
    "\n",
    "name = input(\"Enter your name: \")\n",
    "age = int(input(\"Enter your age: \"))\n",
    "\n",
    "print(f\"Hello, {name}! You are {age} years old.\")\n"
   ]
  },
  {
   "cell_type": "code",
   "execution_count": 13,
   "id": "fc7cc812-24a3-4f34-8bba-935627860734",
   "metadata": {},
   "outputs": [
    {
     "name": "stdout",
     "output_type": "stream",
     "text": [
      "Value of x: 10 Type of x: <class 'int'>\n",
      "Value of y: 3.5 Type of y: <class 'float'>\n",
      "Sum of x and y: 13.5\n",
      "Type of sum_xy: <class 'float'>\n"
     ]
    }
   ],
   "source": [
    "# Question 6\n",
    "#  Create two variables x and \n",
    "# y and assign them the values \n",
    "# 10 and \n",
    "# 3.5 , \n",
    "# respectively. Print their values and types. Then, create a new variable \n",
    "# sum_xy and store the sum of \n",
    "# x and y. Print the result and its type.\n",
    "\n",
    "x = 10\n",
    "y = 3.5\n",
    "print(\"Value of x:\", x, \"Type of x:\", type(x))\n",
    "print(\"Value of y:\", y, \"Type of y:\", type(y))\n",
    "\n",
    "sum_xy = x + y\n",
    "\n",
    "print(\"Sum of x and y:\", sum_xy)\n",
    "print(\"Type of sum_xy:\", type(sum_xy))\n"
   ]
  },
  {
   "cell_type": "code",
   "execution_count": 15,
   "id": "6ad07753-3025-4694-be77-a211eccdd611",
   "metadata": {},
   "outputs": [
    {
     "name": "stdout",
     "output_type": "stream",
     "text": [
      "Type of 45.0: <class 'float'>\n",
      "Type of 'hello': <class 'str'>\n",
      "Type of None: <class 'NoneType'>\n",
      "Type of 1: <class 'int'>\n",
      "Type of False: <class 'bool'>\n"
     ]
    }
   ],
   "source": [
    "#  Question 7\n",
    "#  Using the \n",
    "# type() function, check and print the data type of the following:\n",
    "#  45.0\n",
    "#  \"hello\"\n",
    "#  None\n",
    "#  1\n",
    "#  Assignment 2\n",
    "# False\n",
    "\n",
    "print(\"Type of 45.0:\", type(45.0))\n",
    "print(\"Type of 'hello':\", type(\"hello\"))\n",
    "print(\"Type of None:\", type(None))\n",
    "print(\"Type of 1:\", type(1))\n",
    "print(\"Type of False:\", type(False))"
   ]
  },
  {
   "cell_type": "code",
   "execution_count": 17,
   "id": "344f0af7-c653-4ee8-81e6-98fa3ad33ea3",
   "metadata": {},
   "outputs": [
    {
     "name": "stdout",
     "output_type": "stream",
     "text": [
      "apple banana cherry\n",
      "apple,banana,cherry\n"
     ]
    }
   ],
   "source": [
    "#  Question 8\n",
    "#  Write a Python program to print three strings \n",
    "# \"apple\" , \n",
    "# \"banana\" , and \n",
    "# \"cherry\" \n",
    "# on the same line, separated by a space. Then modify the program to \n",
    "# separate the strings using a comma \n",
    "# , instead of a space.\n",
    "\n",
    "\n",
    "print(\"apple\", \"banana\", \"cherry\")\n",
    "print(\"apple\", \"banana\", \"cherry\", sep=\",\")\n"
   ]
  },
  {
   "cell_type": "code",
   "execution_count": 19,
   "id": "f7d075af-0d68-429f-850c-604714eebbab",
   "metadata": {},
   "outputs": [
    {
     "name": "stdout",
     "output_type": "stream",
     "text": [
      "Value of big_number: 987654321987654321\n",
      "Type of big_number: <class 'int'>\n"
     ]
    }
   ],
   "source": [
    "#  Question 9\n",
    "#  Create a variable \n",
    "# big_number and assign it a very large integer value (e.g., \n",
    "# 987654321987654321 ). Print the value and its type. What do you notice about \n",
    "# the size of the number?\n",
    "\n",
    "\n",
    "big_number = 987654321987654321\n",
    "print(\"Value of big_number:\", big_number)\n",
    "print(\"Type of big_number:\", type(big_number))\n"
   ]
  },
  {
   "cell_type": "code",
   "execution_count": null,
   "id": "4bf82ca5-0edb-4e96-9f88-c07ff0447a90",
   "metadata": {},
   "outputs": [],
   "source": []
  }
 ],
 "metadata": {
  "kernelspec": {
   "display_name": "Python [conda env:base] *",
   "language": "python",
   "name": "conda-base-py"
  },
  "language_info": {
   "codemirror_mode": {
    "name": "ipython",
    "version": 3
   },
   "file_extension": ".py",
   "mimetype": "text/x-python",
   "name": "python",
   "nbconvert_exporter": "python",
   "pygments_lexer": "ipython3",
   "version": "3.12.7"
  }
 },
 "nbformat": 4,
 "nbformat_minor": 5
}
