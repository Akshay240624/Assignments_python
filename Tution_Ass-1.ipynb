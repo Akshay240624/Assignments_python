{
 "cells": [
  {
   "cell_type": "code",
   "execution_count": null,
   "id": "05a3b8db-fe2c-42ad-9394-154904aa0ed3",
   "metadata": {},
   "outputs": [],
   "source": [
    "# Question 1\n",
    "#  Write a Python program to print your name and favourite colour on two \n",
    "# separate lines.\n",
    "\n",
    "name = \"Akshay\"\n",
    "colour = \"Blue\"          \n",
    "\n",
    "print(name)\n",
    "print(colour)"
   ]
  },
  {
   "cell_type": "code",
   "execution_count": 1,
   "id": "dcee660e-4f58-446b-b24d-6e903ac0e5cf",
   "metadata": {},
   "outputs": [
    {
     "name": "stdout",
     "output_type": "stream",
     "text": [
      "The result is: 15\n"
     ]
    }
   ],
   "source": [
    " # Question 2\n",
    " # Write a Python program that prints the result of adding 7 and 8.\n",
    "\n",
    "result = 7 + 8\n",
    "print(\"The result is:\", result)"
   ]
  },
  {
   "cell_type": "code",
   "execution_count": 3,
   "id": "7fbb3bb0-e8f8-4133-9fb0-2a5da8955249",
   "metadata": {},
   "outputs": [
    {
     "name": "stdout",
     "output_type": "stream",
     "text": [
      "Python is fun!\n",
      "Let's learn together.\n"
     ]
    }
   ],
   "source": [
    "#  Question 3\n",
    "#  Use the \n",
    "# print function to display the following text exactly as it is:\n",
    "#  Python is fun!\n",
    "#  Let's learn together.\n",
    "\n",
    "print(\"Python is fun!\")\n",
    "print(\"Let's learn together.\")\n"
   ]
  },
  {
   "cell_type": "code",
   "execution_count": 5,
   "id": "a34266d4-0eb9-420c-b1c7-449c14f930b1",
   "metadata": {},
   "outputs": [
    {
     "name": "stdout",
     "output_type": "stream",
     "text": [
      "The result is: 54\n"
     ]
    }
   ],
   "source": [
    "# Question 4\n",
    "#  Write a Python program to calculate and print the result of multiplying 6 by \n",
    "# 9.\n",
    "\n",
    "result = 6 * 9\n",
    "print(\"The result is:\", result)\n"
   ]
  },
  {
   "cell_type": "code",
   "execution_count": 7,
   "id": "b7650591-6bf3-4c99-8932-ae99f52f7e66",
   "metadata": {},
   "outputs": [
    {
     "name": "stdout",
     "output_type": "stream",
     "text": [
      "Addition: 10 Multiplication: 6\n"
     ]
    }
   ],
   "source": [
    "#  Question 5\n",
    "#  Write a Python program that prints the result of adding 5  5 and \n",
    "# multiplying 2  3 in a single line of code.\n",
    "\n",
    "print(\"Addition:\", 5 + 5, \"Multiplication:\", 2 * 3)"
   ]
  },
  {
   "cell_type": "code",
   "execution_count": 9,
   "id": "2e9e252e-bc7f-4b17-a5eb-2ce364fe95ec",
   "metadata": {},
   "outputs": [
    {
     "name": "stdin",
     "output_type": "stream",
     "text": [
      "Enter your name:  akshay\n"
     ]
    },
    {
     "name": "stdout",
     "output_type": "stream",
     "text": [
      "Hello akshay\n"
     ]
    }
   ],
   "source": [
    "#   Take the name A as input from the user and print \"Hello A\", where A is \n",
    "# the name in input.\n",
    "\n",
    "\n",
    "name = input(\"Enter your name: \")\n",
    "print(\"Hello\", name)"
   ]
  },
  {
   "cell_type": "code",
   "execution_count": 11,
   "id": "9df10e1e-a717-4e18-be9a-76e9419743a5",
   "metadata": {},
   "outputs": [
    {
     "name": "stdin",
     "output_type": "stream",
     "text": [
      "Enter your savings (in rupees):  34\n",
      "Enter the amount you Google Pay (in rupees):  2\n"
     ]
    },
    {
     "name": "stdout",
     "output_type": "stream",
     "text": [
      "Your bank balance is: 32 rupees\n"
     ]
    }
   ],
   "source": [
    "#  You have x rupees in your savings. You google pay y rupees, print your \n",
    "# bank balance\n",
    "\n",
    "x = int(input(\"Enter your savings (in rupees): \"))\n",
    "y = int(input(\"Enter the amount you Google Pay (in rupees): \"))\n",
    "\n",
    "balance = x - y\n",
    "print(\"Your bank balance is:\", balance, \"rupees\")"
   ]
  },
  {
   "cell_type": "code",
   "execution_count": 13,
   "id": "b7b4fc0a-90ce-419b-8124-b208b86c3ab9",
   "metadata": {},
   "outputs": [
    {
     "name": "stdout",
     "output_type": "stream",
     "text": [
      "A\n",
      "B\n",
      "C\n",
      "D\n",
      "E\n"
     ]
    }
   ],
   "source": [
    "#   Print the first five letters of the English alphabet i.e. A, B, C, D and E. \n",
    "# one below each other\n",
    "\n",
    "\n",
    "\n",
    "print(\"A\")\n",
    "print(\"B\")\n",
    "print(\"C\")\n",
    "print(\"D\")\n",
    "print(\"E\")"
   ]
  },
  {
   "cell_type": "code",
   "execution_count": null,
   "id": "8c6bae80-61d6-438d-a36a-6ed50ecbd983",
   "metadata": {},
   "outputs": [
    {
     "name": "stdin",
     "output_type": "stream",
     "text": [
      "Enter first name:  akshay\n"
     ]
    }
   ],
   "source": [
    "#   Take two names A and B as input from the user, and print \"A says Hi to \n",
    "# B\" Without quotations), where A and B are the names in input.\n",
    "\n",
    "A = input(\"Enter first name: \")\n",
    "B = input(\"Enter second name: \")\n",
    "\n",
    "print(f\"{A} says Hi to {B}\")"
   ]
  },
  {
   "cell_type": "code",
   "execution_count": null,
   "id": "97fdb6df-0ffa-4041-9da9-d6e6ed42337f",
   "metadata": {},
   "outputs": [],
   "source": []
  }
 ],
 "metadata": {
  "kernelspec": {
   "display_name": "Python [conda env:base] *",
   "language": "python",
   "name": "conda-base-py"
  },
  "language_info": {
   "codemirror_mode": {
    "name": "ipython",
    "version": 3
   },
   "file_extension": ".py",
   "mimetype": "text/x-python",
   "name": "python",
   "nbconvert_exporter": "python",
   "pygments_lexer": "ipython3",
   "version": "3.12.7"
  }
 },
 "nbformat": 4,
 "nbformat_minor": 5
}
