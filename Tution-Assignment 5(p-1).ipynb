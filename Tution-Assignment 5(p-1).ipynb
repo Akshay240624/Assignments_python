{
 "cells": [
  {
   "cell_type": "code",
   "execution_count": 1,
   "id": "e9e175b6-6bc3-4638-810a-3b8d18345ba8",
   "metadata": {},
   "outputs": [
    {
     "name": "stdin",
     "output_type": "stream",
     "text": [
      "Enter temperature in Celsius:  55\n"
     ]
    },
    {
     "name": "stdout",
     "output_type": "stream",
     "text": [
      "Temperature in Fahrenheit: 131.0\n"
     ]
    }
   ],
   "source": [
    "# Given the temperature of a day in Degrees Celsius, convert this given \n",
    "# temperature from Celsius to Fahrenheit. Complete the function to do so. \n",
    "# Round the output up to 2 decimal places\n",
    "\n",
    "def celsius_farhen(Celsius):\n",
    "    ans = (Celsius * 9/5) + 32\n",
    "    return round(ans, 2)\n",
    "\n",
    "C = float(input(\"Enter temperature in Celsius: \"))\n",
    "print(\"Temperature in Fahrenheit:\", celsius_farhen(C))"
   ]
  },
  {
   "cell_type": "code",
   "execution_count": 3,
   "id": "89ad4336-512b-4462-8bd7-c0b077e2f01f",
   "metadata": {},
   "outputs": [
    {
     "name": "stdin",
     "output_type": "stream",
     "text": [
      "Enter time in days:  5\n",
      "Enter principal amount:  5200\n",
      "Enter annual interest rate (%):  8\n"
     ]
    },
    {
     "name": "stdout",
     "output_type": "stream",
     "text": [
      "Total Amount = 5205.7\n"
     ]
    }
   ],
   "source": [
    "#  Write a program to calculate the total amount if the principal \n",
    "# amount, simple interest rate per annum, and time in the number of days \n",
    "# are given. The simple interest rate per annum is provided as a percentage. \n",
    "# Assuming that there are 365 days in a year, print the total amount rounded \n",
    "# up to 2 decimal places.\n",
    "\n",
    "def simple_int(time, pa, ir):\n",
    "    ''' time: number of days, pa: principal amount, ir: interest rate per annum (%) '''\n",
    "    interest = (pa * ir * time) / (365 * 100)\n",
    "    ans = pa + interest\n",
    "    return round(ans, 2)\n",
    "\n",
    "# Example\n",
    "time = int(input(\"Enter time in days: \"))\n",
    "pa = float(input(\"Enter principal amount: \"))\n",
    "ir = float(input(\"Enter annual interest rate (%): \"))\n",
    "print(\"Total Amount =\", simple_int(time, pa, ir))"
   ]
  },
  {
   "cell_type": "code",
   "execution_count": 5,
   "id": "081f23f4-6ce1-4c53-bbc9-a531d025b2e3",
   "metadata": {},
   "outputs": [
    {
     "name": "stdin",
     "output_type": "stream",
     "text": [
      "Enter vehicle cost price:  4500\n"
     ]
    },
    {
     "name": "stdout",
     "output_type": "stream",
     "text": [
      "Road Tax to pay: 225.0\n"
     ]
    }
   ],
   "source": [
    "#  Write a program that takes the cost price of a vehicle as an argument and \n",
    "# returns the road tax, that the vehicle owner has to pay according to the \n",
    "# following criteria\n",
    "\n",
    "def road_tax(price):\n",
    "    if price > 100000:\n",
    "        tax = 0.2 * price\n",
    "    elif 75000 < price <= 100000:\n",
    "        tax = 0.15 * price\n",
    "    elif 50000 < price <= 75000:\n",
    "        tax = 0.1 * price\n",
    "    else:\n",
    "        tax = 0.05 * price\n",
    "    return round(tax, 1)\n",
    "\n",
    "\n",
    "price = float(input(\"Enter vehicle cost price: \"))\n",
    "print(\"Road Tax to pay:\", road_tax(price))"
   ]
  },
  {
   "cell_type": "code",
   "execution_count": 7,
   "id": "106a1489-9e15-4f2e-b63d-e3b2fd3971cf",
   "metadata": {},
   "outputs": [
    {
     "name": "stdin",
     "output_type": "stream",
     "text": [
      "Enter radius of circle:  5\n"
     ]
    },
    {
     "name": "stdout",
     "output_type": "stream",
     "text": [
      "Area of Circle = 78.54\n"
     ]
    }
   ],
   "source": [
    "#  You are given a positive integer A denoting the radius of a circle. You have \n",
    "# to calculate the area of the circle. Note: The formula for the area of a circle \n",
    "# is Area = πr², where r is the circle's radius. You can use the value \n",
    "# 2\n",
    "#  problems on functions\n",
    "# of PI as 3.1416. Round up the final answer up to 2 decimal places. You can \n",
    "# use round(area, 2 for rounding area to 2 decimal places\n",
    "\n",
    "import math\n",
    "\n",
    "def circle_area(A):\n",
    "    area = math.pi * (A ** 2)\n",
    "    return round(area, 2)\n",
    "\n",
    "r = float(input(\"Enter radius of circle: \"))\n",
    "print(\"Area of Circle =\", circle_area(r))"
   ]
  },
  {
   "cell_type": "code",
   "execution_count": 9,
   "id": "05983045-3df3-4e0a-a6da-6f5bdb1377a7",
   "metadata": {},
   "outputs": [
    {
     "name": "stdin",
     "output_type": "stream",
     "text": [
      "Enter n:  5\n"
     ]
    },
    {
     "name": "stdout",
     "output_type": "stream",
     "text": [
      "Sum of squares of first 5 natural numbers: 55\n"
     ]
    }
   ],
   "source": [
    "#  Given an integer n, write a program to return the sum of squares of first n \n",
    "# natural numbers in integer format\n",
    "\n",
    "def sum_squares(n):\n",
    "    ans = (n * (n + 1) * (2 * n + 1)) // 6\n",
    "    return ans\n",
    "\n",
    "\n",
    "n = int(input(\"Enter n: \"))\n",
    "print(\"Sum of squares of first\", n, \"natural numbers:\", sum_squares(n))"
   ]
  },
  {
   "cell_type": "code",
   "execution_count": 15,
   "id": "b7e9912a-8b93-4ae3-9c5b-f784d8e324a3",
   "metadata": {},
   "outputs": [
    {
     "name": "stdin",
     "output_type": "stream",
     "text": [
      "Enter a lowercase character:  r\n"
     ]
    },
    {
     "name": "stdout",
     "output_type": "stream",
     "text": [
      "Vowel (1) or Not (0): 0\n"
     ]
    }
   ],
   "source": [
    "#  You are given a lowercase latin alphabetic character C. You have to tell \n",
    "# whether it is a vowel or not.\n",
    "#  The characters 'a', 'e', 'i', 'o', and 'u' are called vowels\n",
    "\n",
    "def isvowel(C):\n",
    "    vowel = \"aeiou\"\n",
    "    if C in vowel:\n",
    "        return 1\n",
    "    else:\n",
    "        return 0\n",
    "\n",
    "\n",
    "C = input(\"Enter a lowercase character: \")\n",
    "print(\"Vowel (1) or Not (0):\", isvowel(C))"
   ]
  },
  {
   "cell_type": "code",
   "execution_count": 17,
   "id": "dc3a35d4-278a-4fcf-a9f4-aa2b755e25ea",
   "metadata": {},
   "outputs": [
    {
     "name": "stdin",
     "output_type": "stream",
     "text": [
      "Enter height in cm:  15\n",
      "Enter weight in kg:  50\n"
     ]
    },
    {
     "name": "stdout",
     "output_type": "stream",
     "text": [
      "Category: Obese\n",
      "BMI: 2222.2\n"
     ]
    }
   ],
   "source": [
    "#  Given the height A and weight B of a person as input in centimetres and \n",
    "# kilograms.\n",
    "#  Find the BMI of that person and the classification of the user based on their \n",
    "# BMI.\n",
    "#   Print Underweight if BMI  18.5\n",
    "#   Print Normal if BMI lies in the range 18.5, 24.9\n",
    "#   Print Overweight if BMI lies in the range 24.9, 29.9\n",
    "#   Print Obese if BMI is greater than 29.9\n",
    "#  If x is the weight in kilograms and y is the height in metres.\n",
    "#  Then, BMI is calculated as x/(y*y).\n",
    "\n",
    "def main(height_cm, weight):\n",
    "    height = height_cm / 100\n",
    "    BMI = (weight / (height * height))\n",
    "    return BMI\n",
    "\n",
    "def classify(BMI):\n",
    "    if BMI < 18.5:\n",
    "        return \"Underweight\"\n",
    "    elif 18.5 <= BMI <= 24.9:\n",
    "        return \"Normal\"\n",
    "    elif 24.9 < BMI <= 29.9:\n",
    "        return \"Overweight\"\n",
    "    else:\n",
    "        return \"Obese\"\n",
    "\n",
    "# Example\n",
    "height_in_cm = float(input(\"Enter height in cm: \"))\n",
    "weight_in_kg = float(input(\"Enter weight in kg: \"))\n",
    "\n",
    "BMI = main(height_in_cm, weight_in_kg)\n",
    "classification = classify(BMI)\n",
    "rounded_bmi = round(BMI, 1)\n",
    "\n",
    "print(\"Category:\", classification)\n",
    "print(\"BMI:\", rounded_bmi)"
   ]
  },
  {
   "cell_type": "code",
   "execution_count": null,
   "id": "20e201a7-abcf-486f-a3b4-94dd740eb196",
   "metadata": {},
   "outputs": [],
   "source": []
  }
 ],
 "metadata": {
  "kernelspec": {
   "display_name": "Python [conda env:base] *",
   "language": "python",
   "name": "conda-base-py"
  },
  "language_info": {
   "codemirror_mode": {
    "name": "ipython",
    "version": 3
   },
   "file_extension": ".py",
   "mimetype": "text/x-python",
   "name": "python",
   "nbconvert_exporter": "python",
   "pygments_lexer": "ipython3",
   "version": "3.12.7"
  }
 },
 "nbformat": 4,
 "nbformat_minor": 5
}
