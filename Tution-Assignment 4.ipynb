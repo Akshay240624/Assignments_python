{
 "cells": [
  {
   "cell_type": "code",
   "execution_count": 1,
   "id": "93ec4834-a4fe-493d-b083-4e2035b5cce8",
   "metadata": {},
   "outputs": [
    {
     "name": "stdin",
     "output_type": "stream",
     "text": [
      "Enter a number:  3\n"
     ]
    },
    {
     "name": "stdout",
     "output_type": "stream",
     "text": [
      "Odd\n"
     ]
    }
   ],
   "source": [
    "#  Question 1\n",
    "#  Write a Python program that checks if a number entered by the user is even \n",
    "# or odd. Print \"Even\" if the number is even and \"Odd\" if it is odd.\n",
    "\n",
    "\n",
    "num = int(input(\"Enter a number: \"))\n",
    "\n",
    "\n",
    "if num % 2 == 0:\n",
    "    print(\"Even\")\n",
    "else:\n",
    "    print(\"Odd\")"
   ]
  },
  {
   "cell_type": "code",
   "execution_count": 3,
   "id": "9f15e265-d8fd-4120-b703-69128ff60561",
   "metadata": {},
   "outputs": [
    {
     "name": "stdin",
     "output_type": "stream",
     "text": [
      "Enter your age:  34\n"
     ]
    },
    {
     "name": "stdout",
     "output_type": "stream",
     "text": [
      "You are an adult.\n"
     ]
    }
   ],
   "source": [
    "#  Question 2\n",
    "#  Create a program that prompts the user for their age and prints whether \n",
    "# they are a child 012, teenager 1319, or adult 20 and above).\n",
    "\n",
    "\n",
    "age = int(input(\"Enter your age: \"))\n",
    "\n",
    "\n",
    "if 0 <= age <= 12:\n",
    "    print(\"You are a child.\")\n",
    "elif 13 <= age <= 19:\n",
    "    print(\"You are a teenager.\")\n",
    "elif age >= 20:\n",
    "    print(\"You are an adult.\")\n",
    "else:\n",
    "    print(\"Invalid age entered.\")\n"
   ]
  },
  {
   "cell_type": "code",
   "execution_count": 5,
   "id": "22e6323b-5f65-4339-82f2-57b95259d548",
   "metadata": {},
   "outputs": [
    {
     "name": "stdin",
     "output_type": "stream",
     "text": [
      "Enter the first number:  2\n",
      "Enter the second number:  5\n"
     ]
    },
    {
     "name": "stdout",
     "output_type": "stream",
     "text": [
      "The second number is larger.\n"
     ]
    }
   ],
   "source": [
    "# Question 3\n",
    "#  Write a program that takes two numbers as input from the user and prints \n",
    "# which number is larger. If both numbers are equal, print \"Both numbers are \n",
    "# equal.\"\n",
    "\n",
    "num1 = float(input(\"Enter the first number: \"))\n",
    "num2 = float(input(\"Enter the second number: \"))\n",
    "\n",
    "if num1 > num2:\n",
    "    print(\"The first number is larger.\")\n",
    "elif num2 > num1:\n",
    "    print(\"The second number is larger.\")\n",
    "else:\n",
    "    print(\"Both numbers are equal.\")"
   ]
  },
  {
   "cell_type": "code",
   "execution_count": 9,
   "id": "23492910-0740-4d2e-9bae-98e9561d5996",
   "metadata": {},
   "outputs": [
    {
     "name": "stdin",
     "output_type": "stream",
     "text": [
      "Enter your password:  aa\n"
     ]
    },
    {
     "name": "stdout",
     "output_type": "stream",
     "text": [
      "Access Denied\n"
     ]
    }
   ],
   "source": [
    "#  Question 4\n",
    "#  Create a program that checks if a user-entered password matches the \n",
    "# string \"securePassword\". Print \"Access Granted\" if it matches, otherwise \n",
    "# print \"Access Denied.\"\n",
    "\n",
    "correct_password = \"securePassword\"\n",
    "\n",
    "\n",
    "user_password = input(\"Enter your password: \")\n",
    "\n",
    "if user_password == correct_password:\n",
    "    print(\"Access Granted\")\n",
    "else:\n",
    "    print(\"Access Denied\")"
   ]
  },
  {
   "cell_type": "code",
   "execution_count": 11,
   "id": "963a2985-0b7d-4042-958f-407c92ffe096",
   "metadata": {},
   "outputs": [
    {
     "name": "stdin",
     "output_type": "stream",
     "text": [
      "Enter your score (0-100):  34\n"
     ]
    },
    {
     "name": "stdout",
     "output_type": "stream",
     "text": [
      "Your grade is: F\n"
     ]
    }
   ],
   "source": [
    "# Question 5\n",
    "#  Write a program that takes a score from the user 0100 and prints the \n",
    "# corresponding grade:\n",
    "#  A for 90100\n",
    "#  B for 8089\n",
    "#  C for 7079\n",
    "#  D for 6069\n",
    "#  F for below 60\n",
    "score = int(input(\"Enter your score (0-100): \"))\n",
    "\n",
    "if 90 <= score <= 100:\n",
    "    grade = \"A\"\n",
    "elif 80 <= score <= 89:\n",
    "    grade = \"B\"\n",
    "elif 70 <= score <= 79:\n",
    "    grade = \"C\"\n",
    "elif 60 <= score <= 69:\n",
    "    grade = \"D\"\n",
    "elif 0 <= score < 60:\n",
    "    grade = \"F\"\n",
    "else:\n",
    "    grade = \"Invalid score\"\n",
    "\n",
    "print(\"Your grade is:\", grade)"
   ]
  },
  {
   "cell_type": "code",
   "execution_count": 13,
   "id": "05a37f79-b1c4-4d28-8b80-48f94ecea09f",
   "metadata": {},
   "outputs": [
    {
     "name": "stdin",
     "output_type": "stream",
     "text": [
      "Enter a number:  5\n"
     ]
    },
    {
     "name": "stdout",
     "output_type": "stream",
     "text": [
      "The number is positive.\n"
     ]
    }
   ],
   "source": [
    "#  Question 6\n",
    "#  Create a program that asks the user for a number and checks if it is \n",
    "# positive, negative, or zero. Print the corresponding message.\n",
    "\n",
    "\n",
    "num = float(input(\"Enter a number: \"))\n",
    "if num > 0:\n",
    "    print(\"The number is positive.\")\n",
    "elif num < 0:\n",
    "    print(\"The number is negative.\")\n",
    "else:\n",
    "    print(\"The number is zero.\")\n"
   ]
  },
  {
   "cell_type": "code",
   "execution_count": 15,
   "id": "96bd1c41-f42e-4c43-ba7b-76ca6a338028",
   "metadata": {},
   "outputs": [
    {
     "name": "stdin",
     "output_type": "stream",
     "text": [
      "Enter the first number:  5\n",
      "Enter the second number:  8\n",
      "Enter the third number:  1\n"
     ]
    },
    {
     "name": "stdout",
     "output_type": "stream",
     "text": [
      "The largest number is: 8.0\n"
     ]
    }
   ],
   "source": [
    "# Question 7\n",
    "#  1\n",
    "#  Assignment 4\n",
    "# Write a program that takes three numbers from the user and determines the \n",
    "# largest of the three. Print the largest number.\n",
    "\n",
    "\n",
    "num1 = float(input(\"Enter the first number: \"))\n",
    "num2 = float(input(\"Enter the second number: \"))\n",
    "num3 = float(input(\"Enter the third number: \"))\n",
    "\n",
    "if num1 >= num2 and num1 >= num3:\n",
    "    largest = num1\n",
    "elif num2 >= num1 and num2 >= num3:\n",
    "    largest = num2\n",
    "else:\n",
    "    largest = num3\n",
    "\n",
    "print(\"The largest number is:\", largest)\n"
   ]
  },
  {
   "cell_type": "code",
   "execution_count": 17,
   "id": "20bfcd1d-cde4-43f2-a7fa-240b5a1711e1",
   "metadata": {},
   "outputs": [
    {
     "name": "stdin",
     "output_type": "stream",
     "text": [
      "Enter a single character:  s\n"
     ]
    },
    {
     "name": "stdout",
     "output_type": "stream",
     "text": [
      "s is a consonant.\n"
     ]
    }
   ],
   "source": [
    "#  Question 8\n",
    "#  Create a program that checks if a user-entered character is a vowel (a, e, i, \n",
    "# o, u) or a consonant. Print the corresponding message.a\n",
    "\n",
    "\n",
    "char = input(\"Enter a single character: \").lower()  \n",
    "\n",
    "if char in ['a', 'e', 'i', 'o', 'u']:\n",
    "    print(f\"{char} is a vowel.\")\n",
    "elif char.isalpha():  \n",
    "    print(f\"{char} is a consonant.\")\n",
    "else:\n",
    "    print(\"Invalid input. Please enter a letter.\")\n"
   ]
  },
  {
   "cell_type": "code",
   "execution_count": null,
   "id": "902a74e5-3ed1-4c2c-aaf5-2497a2331a89",
   "metadata": {},
   "outputs": [],
   "source": [
    "# Question 9\n",
    "#  Write a program that checks if a given year is a leap year. A year is a leap \n",
    "# year if it is divisible by 4, except for years that are divisible by 100 but not \n",
    "# divisible by 400.\n",
    "\n",
    "year = int(input(\"Enter a year: \"))\n",
    "\n",
    "\n",
    "if (year % 4 == 0 and year % 100 != 0) or (year % 400 == 0):\n",
    "    print(year, \"is a leap year.\")\n",
    "else:\n",
    "    print(year, \"is not a leap year.\")"
   ]
  }
 ],
 "metadata": {
  "kernelspec": {
   "display_name": "Python [conda env:base] *",
   "language": "python",
   "name": "conda-base-py"
  },
  "language_info": {
   "codemirror_mode": {
    "name": "ipython",
    "version": 3
   },
   "file_extension": ".py",
   "mimetype": "text/x-python",
   "name": "python",
   "nbconvert_exporter": "python",
   "pygments_lexer": "ipython3",
   "version": "3.12.7"
  }
 },
 "nbformat": 4,
 "nbformat_minor": 5
}
