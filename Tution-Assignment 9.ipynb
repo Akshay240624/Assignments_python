{
 "cells": [
  {
   "cell_type": "code",
   "execution_count": 1,
   "id": "7675ef5a-1ced-4d05-9d80-943814fa4a79",
   "metadata": {},
   "outputs": [],
   "source": [
    "# Lists, Strings, Dictionaries, and Nested Structures"
   ]
  },
  {
   "cell_type": "code",
   "execution_count": 3,
   "id": "acb13b3b-db51-4e7b-a5d7-9f1586a7d8e3",
   "metadata": {},
   "outputs": [
    {
     "name": "stdout",
     "output_type": "stream",
     "text": [
      "[2003, 2004, 2005, 2006, 2007, 2008]\n"
     ]
    }
   ],
   "source": [
    "# 1. Year List Creation \n",
    "# Create a list years_list that includes the year of your birth and the next five years (total 6 \n",
    "# years).\n",
    "\n",
    "\n",
    "years_list = [2003, 2004, 2005, 2006, 2007, 2008]\n",
    "print(years_list)"
   ]
  },
  {
   "cell_type": "code",
   "execution_count": 5,
   "id": "94880a81-2072-498c-9773-5cfde3e25aae",
   "metadata": {},
   "outputs": [
    {
     "name": "stdout",
     "output_type": "stream",
     "text": [
      "Third birthday year: 2006\n"
     ]
    }
   ],
   "source": [
    "# 2. Third Birthday Year \n",
    "# Print the year in years_list when you were 3 years old. \n",
    "# Hint: Remember, your 0th year is the first item. \n",
    "\n",
    "print(\"Third birthday year:\", years_list[3])"
   ]
  },
  {
   "cell_type": "code",
   "execution_count": 7,
   "id": "4e8b0ba6-0aa9-4a1f-b5c7-7e69628c74a5",
   "metadata": {},
   "outputs": [
    {
     "name": "stdout",
     "output_type": "stream",
     "text": [
      "Most recent year: 2008\n"
     ]
    }
   ],
   "source": [
    "# 3. Oldest Year \n",
    "# Which year in years_list represents the most recent (your oldest age)?\n",
    "\n",
    "print(\"Most recent year:\", years_list[-1])"
   ]
  },
  {
   "cell_type": "code",
   "execution_count": 9,
   "id": "47804f0b-7538-4751-8070-4043abcf25ce",
   "metadata": {},
   "outputs": [
    {
     "name": "stdout",
     "output_type": "stream",
     "text": [
      "['mozzarella', 'cinderella', 'salmonella']\n"
     ]
    }
   ],
   "source": [
    "# 4. List of Things \n",
    "# Create a list called things with the following items: \n",
    "# [\"mozzarella\", \"cinderella\", \"salmonella\"]\n",
    "\n",
    "things = [\"mozzarella\", \"cinderella\", \"salmonella\"]\n",
    "print(things)"
   ]
  },
  {
   "cell_type": "code",
   "execution_count": 11,
   "id": "3fe5461d-a1b8-4544-81d9-a872bc71da30",
   "metadata": {},
   "outputs": [
    {
     "name": "stdout",
     "output_type": "stream",
     "text": [
      "After capitalizing: ['mozzarella', 'Cinderella', 'salmonella']\n",
      "Original list: ['mozzarella', 'cinderella', 'salmonella']\n"
     ]
    }
   ],
   "source": [
    "# 5. Capitalization Check \n",
    "# Capitalize the item that refers to a person in the things list. \n",
    "# Print the list. Did the original list change?\n",
    "\n",
    "things_cap = things.copy()\n",
    "things_cap[1] = things_cap[1].capitalize()\n",
    "print(\"After capitalizing:\", things_cap)\n",
    "print(\"Original list:\", things)"
   ]
  },
  {
   "cell_type": "code",
   "execution_count": 13,
   "id": "e12f99ae-a565-470d-9577-83e306972292",
   "metadata": {},
   "outputs": [
    {
     "name": "stdout",
     "output_type": "stream",
     "text": [
      "['Groucho', 'Chico', 'Harpo']\n"
     ]
    }
   ],
   "source": [
    "# 6. Surprise List \n",
    "# Create a list called surprise_list with these values: \n",
    "# [\"Groucho\", \"Chico\", \"Harpo\"]\n",
    "\n",
    "surprise_list = [\"Groucho\", \"Chico\", \"Harpo\"]\n",
    "print(surprise_list)"
   ]
  },
  {
   "cell_type": "code",
   "execution_count": 15,
   "id": "c19c17aa-9bb6-4568-9d34-4d71f54ac8de",
   "metadata": {},
   "outputs": [
    {
     "name": "stdout",
     "output_type": "stream",
     "text": [
      "Transformed string: Oprah\n"
     ]
    }
   ],
   "source": [
    "# 7. String Transformation \n",
    "# Take the last item in surprise_list: \n",
    "# • Lowercase it \n",
    "# • Reverse it \n",
    "# • Capitalize the result \n",
    "# Then print it. \n",
    "\n",
    "last_item = surprise_list[-1]\n",
    "transformed = last_item.lower()[::-1].capitalize()\n",
    "print(\"Transformed string:\", transformed)"
   ]
  },
  {
   "cell_type": "code",
   "execution_count": 17,
   "id": "5b5f9db0-d2fe-4815-8906-c948078eee2e",
   "metadata": {},
   "outputs": [
    {
     "name": "stdout",
     "output_type": "stream",
     "text": [
      "{'dog': 'chien', 'cat': 'chat', 'walrus': 'morse'}\n"
     ]
    }
   ],
   "source": [
    "# 8. English-to-French Dictionary \n",
    "# Create a dictionary e2f that maps these: \n",
    "# • dog → chien \n",
    "# • cat → chat \n",
    "# • walrus → morse \n",
    "# Print the dictionary.\n",
    "\n",
    "e2f = {\n",
    "    'dog': 'chien',\n",
    "    'cat': 'chat',\n",
    "    'walrus': 'morse'\n",
    "}\n",
    "print(e2f)"
   ]
  },
  {
   "cell_type": "code",
   "execution_count": 19,
   "id": "eb01fd3c-5614-45d8-a27c-13bc5c864a87",
   "metadata": {},
   "outputs": [
    {
     "name": "stdout",
     "output_type": "stream",
     "text": [
      "French for walrus: morse\n"
     ]
    }
   ],
   "source": [
    "# 9. Translate 'walrus' to French \n",
    "# Use e2f to print the French word for “walrus.”\n",
    "\n",
    "print(\"French for walrus:\", e2f['walrus'])"
   ]
  },
  {
   "cell_type": "code",
   "execution_count": 21,
   "id": "c5633c7e-cbc7-440e-a89f-237ef9d67929",
   "metadata": {},
   "outputs": [
    {
     "name": "stdout",
     "output_type": "stream",
     "text": [
      "{'chien': 'dog', 'chat': 'cat', 'morse': 'walrus'}\n"
     ]
    }
   ],
   "source": [
    "# 10. Reverse Dictionary \n",
    "# Create a reverse dictionary f2e from e2f using the .items() method. \n",
    "# Print f2e. \n",
    "\n",
    "f2e = {french: english for english, french in e2f.items()}\n",
    "print(f2e)"
   ]
  },
  {
   "cell_type": "code",
   "execution_count": 23,
   "id": "3dd3ad2e-9f22-495a-83f1-bfa49640f6ee",
   "metadata": {},
   "outputs": [
    {
     "name": "stdout",
     "output_type": "stream",
     "text": [
      "English for chien: dog\n"
     ]
    }
   ],
   "source": [
    "# 11. Translate 'chien' to English \n",
    "# Use f2e to print the English word for “chien.”\n",
    "\n",
    "print(\"English for chien:\", f2e['chien'])"
   ]
  },
  {
   "cell_type": "code",
   "execution_count": 25,
   "id": "8ca78ab8-d81e-4aa8-88af-349d494ab179",
   "metadata": {},
   "outputs": [
    {
     "name": "stdout",
     "output_type": "stream",
     "text": [
      "All English words: {'cat', 'walrus', 'dog'}\n"
     ]
    }
   ],
   "source": [
    "# 12. Get All English Words \n",
    "# Print the set of all English words (the keys from e2f). \n",
    "\n",
    "print(\"All English words:\", set(e2f.keys()))"
   ]
  },
  {
   "cell_type": "code",
   "execution_count": 29,
   "id": "a1e8d4bc-d3f0-4498-970a-94c285785492",
   "metadata": {},
   "outputs": [],
   "source": [
    "# 13. Create a Nested Dictionary (life) \n",
    "# Create a dictionary life structured like this: \n",
    "# { \n",
    "# 'animals': { \n",
    "# 'cats': ['Henri', 'Grumpy', 'Lucy'], \n",
    "# 'octopi': {}, \n",
    "# 'emus': {} \n",
    "# }, \n",
    "# 'plants': {}, \n",
    "# 'other': {} \n",
    "# }\n",
    "\n",
    "life = {\n",
    "    'animals': {\n",
    "        'cats': ['Henri', 'Grumpy', 'Lucy'],\n",
    "        'octopi': {},\n",
    "        'emus': {}\n",
    "    },\n",
    "    'plants': {},\n",
    "    'other': {}\n",
    "}"
   ]
  },
  {
   "cell_type": "code",
   "execution_count": null,
   "id": "386e9d32-2a5d-4630-be85-ae5a8e8e5684",
   "metadata": {},
   "outputs": [],
   "source": []
  }
 ],
 "metadata": {
  "kernelspec": {
   "display_name": "Python [conda env:base] *",
   "language": "python",
   "name": "conda-base-py"
  },
  "language_info": {
   "codemirror_mode": {
    "name": "ipython",
    "version": 3
   },
   "file_extension": ".py",
   "mimetype": "text/x-python",
   "name": "python",
   "nbconvert_exporter": "python",
   "pygments_lexer": "ipython3",
   "version": "3.12.7"
  }
 },
 "nbformat": 4,
 "nbformat_minor": 5
}
