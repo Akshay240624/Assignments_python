{
 "cells": [
  {
   "cell_type": "code",
   "execution_count": 1,
   "id": "7130b153-8d86-4c6f-909a-d86c2ee7e7a6",
   "metadata": {},
   "outputs": [
    {
     "name": "stdin",
     "output_type": "stream",
     "text": [
      "Enter number of test cases:  4\n",
      "Enter number:  56\n"
     ]
    },
    {
     "name": "stdout",
     "output_type": "stream",
     "text": [
      "2\n"
     ]
    },
    {
     "name": "stdin",
     "output_type": "stream",
     "text": [
      "Enter number:  5\n"
     ]
    },
    {
     "name": "stdout",
     "output_type": "stream",
     "text": [
      "1\n"
     ]
    },
    {
     "name": "stdin",
     "output_type": "stream",
     "text": [
      "Enter number:  4\n"
     ]
    },
    {
     "name": "stdout",
     "output_type": "stream",
     "text": [
      "1\n"
     ]
    },
    {
     "name": "stdin",
     "output_type": "stream",
     "text": [
      "Enter number:  9\n"
     ]
    },
    {
     "name": "stdout",
     "output_type": "stream",
     "text": [
      "1\n"
     ]
    }
   ],
   "source": [
    "#   Problem Description\n",
    "#  Take T (number of test cases) as input.\n",
    "#  For each test case, take integer N as input and Print the count of digits of that \n",
    "# number.\n",
    "\n",
    "T = int(input(\"Enter number of test cases: \"))\n",
    "for _ in range(T):\n",
    "    N = int(input(\"Enter number: \"))\n",
    "    if N == 0:\n",
    "        print(1)\n",
    "    else:\n",
    "        print(len(str(N)))"
   ]
  },
  {
   "cell_type": "code",
   "execution_count": 9,
   "id": "7ac40180-38c0-4052-90aa-0d4f54ccf758",
   "metadata": {},
   "outputs": [
    {
     "name": "stdin",
     "output_type": "stream",
     "text": [
      "Enter number of test cases:  3\n",
      "Enter number:  58\n"
     ]
    },
    {
     "name": "stdout",
     "output_type": "stream",
     "text": [
      "85\n"
     ]
    },
    {
     "name": "stdin",
     "output_type": "stream",
     "text": [
      "Enter number:  43\n"
     ]
    },
    {
     "name": "stdout",
     "output_type": "stream",
     "text": [
      "34\n"
     ]
    },
    {
     "name": "stdin",
     "output_type": "stream",
     "text": [
      "Enter number:  85\n"
     ]
    },
    {
     "name": "stdout",
     "output_type": "stream",
     "text": [
      "58\n"
     ]
    }
   ],
   "source": [
    "#   Problem Description\n",
    "#  Write a program that accepts T numbers(N) from the user and find reverse of \n",
    "# the given number(N).\n",
    "#  Problem Constraints\n",
    "#  1  T  100\n",
    "#  1  N  100000000\n",
    "\n",
    "\n",
    "T = int(input(\"Enter number of test cases: \"))\n",
    "for _ in range(T):\n",
    "    N = int(input(\"Enter number: \"))\n",
    "    reverse = 0\n",
    "    while N > 0:\n",
    "        digit = N % 10\n",
    "        reverse = reverse * 10 + digit\n",
    "        N = N // 10\n",
    "    print(reverse)"
   ]
  },
  {
   "cell_type": "code",
   "execution_count": 11,
   "id": "d1804f21-9425-4d14-8b54-c4aa6bd53275",
   "metadata": {},
   "outputs": [
    {
     "name": "stdin",
     "output_type": "stream",
     "text": [
      "Enter N:  5\n"
     ]
    },
    {
     "name": "stdout",
     "output_type": "stream",
     "text": [
      "*     *\n",
      "*    *\n",
      "*   *\n",
      "*  *\n",
      "* *\n"
     ]
    }
   ],
   "source": [
    "#  Take an integer N as input. Print the following pattern of N lines. For N  \n",
    "# 5 The following pattern is printed\n",
    "\n",
    "\n",
    "N = int(input(\"Enter N: \"))\n",
    "for i in range(N, 0, -1):\n",
    "    for j in range(0, i + 2):\n",
    "        if j == 0 or j == i + 1:\n",
    "            print(\"*\", end=\"\")\n",
    "        else:\n",
    "            print(\" \", end=\"\")\n",
    "    print()"
   ]
  },
  {
   "cell_type": "code",
   "execution_count": 13,
   "id": "ab14df28-3ccf-4789-8e4b-84eebd93dce9",
   "metadata": {},
   "outputs": [
    {
     "name": "stdin",
     "output_type": "stream",
     "text": [
      "Enter N:  5\n"
     ]
    },
    {
     "name": "stdout",
     "output_type": "stream",
     "text": [
      "*****\n",
      " ****\n",
      "  ***\n",
      "   **\n",
      "    *\n"
     ]
    }
   ],
   "source": [
    "#  Take an integer N as input, print the corresponding pattern for N.\n",
    "#  2\n",
    "#  Problems on Loops\n",
    "# For example if N  5 then pattern will be like\n",
    "\n",
    "\n",
    "N = int(input(\"Enter N: \"))\n",
    "for i in range(1, N + 1):\n",
    "    for j in range(1, N + 1):\n",
    "        if j < i:\n",
    "            print(\" \", end=\"\")\n",
    "        else:\n",
    "            print(\"*\", end=\"\")\n",
    "    print()"
   ]
  },
  {
   "cell_type": "code",
   "execution_count": 15,
   "id": "7a3fdcbf-e273-498b-b164-4a024924f859",
   "metadata": {},
   "outputs": [
    {
     "name": "stdin",
     "output_type": "stream",
     "text": [
      "Enter N:  5\n"
     ]
    },
    {
     "name": "stdout",
     "output_type": "stream",
     "text": [
      "    * \n",
      "   * * \n",
      "  * * * \n",
      " * * * * \n",
      "* * * * * \n"
     ]
    }
   ],
   "source": [
    " #  Take an integer N, print the corresponding Full Pyramid pattern for N.\n",
    " # For example if N  5 then pattern will be like\n",
    "\n",
    "\n",
    "N = int(input(\"Enter N: \"))\n",
    "for i in range(N):\n",
    "    print(\" \" * (N - i - 1) + \"* \" * (i + 1))"
   ]
  },
  {
   "cell_type": "code",
   "execution_count": 17,
   "id": "2e224784-afdd-413c-b3ef-2f15117622db",
   "metadata": {},
   "outputs": [
    {
     "name": "stdin",
     "output_type": "stream",
     "text": [
      "Enter N:  5\n"
     ]
    },
    {
     "name": "stdout",
     "output_type": "stream",
     "text": [
      "1\n",
      "1 \n",
      "1 3\n",
      "1 3 \n",
      "1 3 5\n"
     ]
    }
   ],
   "source": [
    " #  Take an integer N as input, print the corresponding pattern for N.\n",
    " # For example if N  5 then pattern will be like:\n",
    "\n",
    "def main():\n",
    "    n = int(input(\"Enter N: \"))\n",
    "    for r in range(1, n + 1):\n",
    "        for j in range(1, r + 1):\n",
    "            if j % 2 != 0:\n",
    "                print(j, end=\"\")\n",
    "            else:\n",
    "                print(\" \", end=\"\")\n",
    "        print()\n",
    "    return 0\n",
    "\n",
    "if __name__ == '__main__':\n",
    "    main()"
   ]
  },
  {
   "cell_type": "code",
   "execution_count": 19,
   "id": "3ca30a55-558a-463b-ab1b-b8fa5d8a80ea",
   "metadata": {},
   "outputs": [
    {
     "name": "stdin",
     "output_type": "stream",
     "text": [
      "Enter N:  6\n"
     ]
    },
    {
     "name": "stdout",
     "output_type": "stream",
     "text": [
      "******\n",
      "*****\n",
      "****\n",
      "***\n",
      "**\n",
      "*\n"
     ]
    }
   ],
   "source": [
    "#   Take an Integer N as input. Print an Inverse half pyramid of N lines using \n",
    "# For example for N  5, the output should be the following pattern\n",
    "\n",
    "\n",
    "N = int(input(\"Enter N: \"))\n",
    "for i in range(N, 0, -1):\n",
    "    print(\"*\" * i)"
   ]
  },
  {
   "cell_type": "code",
   "execution_count": 21,
   "id": "a771d21e-0db5-4605-ab01-799290328ee5",
   "metadata": {},
   "outputs": [
    {
     "name": "stdin",
     "output_type": "stream",
     "text": [
      "Enter N:  6\n"
     ]
    },
    {
     "name": "stdout",
     "output_type": "stream",
     "text": [
      "     *\n",
      "    **\n",
      "   ***\n",
      "  ****\n",
      " *****\n",
      "******\n"
     ]
    }
   ],
   "source": [
    " #  Take an integer N as input, print the corresponding pattern for N.\n",
    " # For example if N  5 then pattern will be like\n",
    "\n",
    "\n",
    "N = int(input(\"Enter N: \"))\n",
    "for i in range(N, 0, -1):\n",
    "    print(\" \" * (i - 1) + \"*\" * (N - i + 1))"
   ]
  },
  {
   "cell_type": "code",
   "execution_count": null,
   "id": "b0667beb-c99c-46d1-a23f-3233cdbdf1ef",
   "metadata": {},
   "outputs": [],
   "source": []
  }
 ],
 "metadata": {
  "kernelspec": {
   "display_name": "Python [conda env:base] *",
   "language": "python",
   "name": "conda-base-py"
  },
  "language_info": {
   "codemirror_mode": {
    "name": "ipython",
    "version": 3
   },
   "file_extension": ".py",
   "mimetype": "text/x-python",
   "name": "python",
   "nbconvert_exporter": "python",
   "pygments_lexer": "ipython3",
   "version": "3.12.7"
  }
 },
 "nbformat": 4,
 "nbformat_minor": 5
}
