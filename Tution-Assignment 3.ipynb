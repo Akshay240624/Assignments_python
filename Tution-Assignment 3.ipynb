{
 "cells": [
  {
   "cell_type": "code",
   "execution_count": 1,
   "id": "83f878c3-0b0b-47bb-ba91-06e2ef51b705",
   "metadata": {},
   "outputs": [
    {
     "name": "stdout",
     "output_type": "stream",
     "text": [
      "Floored division result (15 // 4): 3\n",
      "Normal division result (15 / 4): 3.75\n"
     ]
    }
   ],
   "source": [
    "#  Question 1\n",
    "#  Create a variable \n",
    "# x with the value \n",
    "# 15 . Perform floored division by \n",
    "# 4 and \n",
    "# print the result. What is the difference between floored division and normal \n",
    "# division?\n",
    "\n",
    "x = 15\n",
    "floored_result = x // 4\n",
    "normal_result = x / 4\n",
    "\n",
    "\n",
    "print(\"Floored division result (15 // 4):\", floored_result)\n",
    "print(\"Normal division result (15 / 4):\", normal_result)"
   ]
  },
  {
   "cell_type": "code",
   "execution_count": 3,
   "id": "40173d42-3673-4444-a549-12bdb5b5197c",
   "metadata": {},
   "outputs": [
    {
     "name": "stdout",
     "output_type": "stream",
     "text": [
      "8 ** 2 = 64\n"
     ]
    }
   ],
   "source": [
    "#  Question 2\n",
    "#  Write a program to calculate \n",
    "# 8 ** 2 and \n",
    "# describe what each represents.\n",
    "\n",
    "result = 8 ** 2\n",
    "print(\"8 ** 2 =\", result)"
   ]
  },
  {
   "cell_type": "code",
   "execution_count": 5,
   "id": "93424779-125e-427f-8f1d-461a0a66ad1e",
   "metadata": {},
   "outputs": [
    {
     "name": "stdout",
     "output_type": "stream",
     "text": [
      "16 ** 0.5 = 4.0\n",
      "Result of expression (with parentheses): 47.0\n"
     ]
    }
   ],
   "source": [
    "#  Question 3\n",
    "#  16 ** 0.5 . Print both results and \n",
    "# Use arithmetic operators to solve the following expression: \n",
    "# 20 - 5 * 3 + 8 / \n",
    "# 4 . Use parentheses to make sure the addition happens before \n",
    "# multiplication. Print the output.\n",
    "\n",
    "\n",
    "# Square root of 16\n",
    "sqrt_result = 16 ** 0.5\n",
    "print(\"16 ** 0.5 =\", sqrt_result)\n",
    "\n",
    "# Arithmetic expression\n",
    "expr_result = (20 - 5) * 3 + 8 / 4\n",
    "print(\"Result of expression (with parentheses):\", expr_result)\n"
   ]
  },
  {
   "cell_type": "code",
   "execution_count": 7,
   "id": "b031ed49-e987-410d-9822-e768c4d85c24",
   "metadata": {},
   "outputs": [
    {
     "name": "stdout",
     "output_type": "stream",
     "text": [
      "Float value: 7.0\n"
     ]
    }
   ],
   "source": [
    "#  Question 4\n",
    "#  Assign the value \n",
    "# 7 to a variable \n",
    "# num . Convert it to a float and print the \n",
    "# result. What is the difference between \n",
    "# 7 and\n",
    "num = 7\n",
    "num_float = float(num)\n",
    "print(\"Float value:\", num_float)"
   ]
  },
  {
   "cell_type": "code",
   "execution_count": 9,
   "id": "98ecd240-8abb-453d-8926-f420cc0b7a36",
   "metadata": {},
   "outputs": [
    {
     "name": "stdout",
     "output_type": "stream",
     "text": [
      "Is result > 5? True\n",
      "Type of the comparison result: <class 'bool'>\n"
     ]
    }
   ],
   "source": [
    "# Question 5\n",
    "#  Use a comparison operator to check if \n",
    "# result and indicate what type of value this is.\n",
    "\n",
    "result = 10\n",
    "check = result > 5\n",
    "\n",
    "print(\"Is result > 5?\", check)\n",
    "print(\"Type of the comparison result:\", type(check))\n"
   ]
  },
  {
   "cell_type": "code",
   "execution_count": 11,
   "id": "1ddd5a8c-efe8-4cc4-bdb4-a40edd1087e2",
   "metadata": {},
   "outputs": [
    {
     "name": "stdout",
     "output_type": "stream",
     "text": [
      "Is it sunny and weekend? False\n"
     ]
    }
   ],
   "source": [
    "# Question 6\n",
    "#  Assign \n",
    "# True to a variable \n",
    "# is_sunny and \n",
    "# 7.0 ?\n",
    "#  100 is greater than \n",
    "# 50 . Print the \n",
    "# False to \n",
    "# is_weekend . Use logical \n",
    "# operators to check if it is sunny and the weekend (\n",
    "#  is_sunny and is_weekend ). \n",
    "# Print the result.\n",
    "\n",
    "\n",
    "is_sunny = True\n",
    "is_weekend = False\n",
    "\n",
    "check = is_sunny and is_weekend\n",
    "\n",
    "\n",
    "print(\"Is it sunny and weekend?\", check)"
   ]
  },
  {
   "cell_type": "code",
   "execution_count": 13,
   "id": "e175b74a-6314-4b08-8dbc-3429ab621a83",
   "metadata": {},
   "outputs": [
    {
     "name": "stdin",
     "output_type": "stream",
     "text": [
      "Enter your password:  my_password123\n"
     ]
    },
    {
     "name": "stdout",
     "output_type": "stream",
     "text": [
      "True\n"
     ]
    }
   ],
   "source": [
    "#  Question 7\n",
    "#  Create a variable \n",
    "# password and set it to \n",
    "# \"my_password123\" . Ask the user to input \n",
    "# a password and print \n",
    "# True if the input matches the value of \n",
    "# password , \n",
    "# otherwise print \n",
    "# False .\n",
    "\n",
    "password = \"my_password123\"\n",
    "user_input = input(\"Enter your password: \")\n",
    "print(user_input == password)\n"
   ]
  },
  {
   "cell_type": "code",
   "execution_count": 15,
   "id": "bb17f2d0-4973-491e-8d99-1b6d04a741fd",
   "metadata": {},
   "outputs": [
    {
     "name": "stdout",
     "output_type": "stream",
     "text": [
      "Updated marks: 55\n"
     ]
    }
   ],
   "source": [
    "#  Question 8\n",
    "#  1\n",
    "#  Assignment 3\n",
    "# 50 to a variable \n",
    "# Assign the value \n",
    "# using the \n",
    "# marks . Increment the value of \n",
    "# marks by 5 \n",
    "# += operator, then print the new value\n",
    "\n",
    "\n",
    "marks = 50\n",
    "marks += 5\n",
    "\n",
    "print(\"Updated marks:\", marks)"
   ]
  },
  {
   "cell_type": "code",
   "execution_count": 17,
   "id": "46b2d6b8-c786-40c5-bd51-77b3924327d6",
   "metadata": {},
   "outputs": [
    {
     "name": "stdout",
     "output_type": "stream",
     "text": [
      "Boolean value of a: False\n"
     ]
    }
   ],
   "source": [
    "#  Question 9\n",
    "#  Write a program to check if the value of \n",
    "# a = 0 and \n",
    "# Print the output and explain why it gives that result.\n",
    "\n",
    "\n",
    "a = 0\n",
    "print(\"Boolean value of a:\", bool(a))\n"
   ]
  },
  {
   "cell_type": "code",
   "execution_count": null,
   "id": "6666b303-8cf7-4d28-a7c2-83bc6d8a830a",
   "metadata": {},
   "outputs": [],
   "source": []
  }
 ],
 "metadata": {
  "kernelspec": {
   "display_name": "Python [conda env:base] *",
   "language": "python",
   "name": "conda-base-py"
  },
  "language_info": {
   "codemirror_mode": {
    "name": "ipython",
    "version": 3
   },
   "file_extension": ".py",
   "mimetype": "text/x-python",
   "name": "python",
   "nbconvert_exporter": "python",
   "pygments_lexer": "ipython3",
   "version": "3.12.7"
  }
 },
 "nbformat": 4,
 "nbformat_minor": 5
}
