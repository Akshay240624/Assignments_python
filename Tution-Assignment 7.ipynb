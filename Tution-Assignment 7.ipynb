{
 "cells": [
  {
   "cell_type": "code",
   "execution_count": 1,
   "id": "b0c64803-3450-4886-af82-abceeae12749",
   "metadata": {},
   "outputs": [],
   "source": [
    "# Function Parameters and Argument Behavior"
   ]
  },
  {
   "cell_type": "code",
   "execution_count": 3,
   "id": "3f2979b1-f4e3-4177-adf9-337d179827d5",
   "metadata": {},
   "outputs": [
    {
     "name": "stdout",
     "output_type": "stream",
     "text": [
      "1 2 8\n"
     ]
    }
   ],
   "source": [
    "# 1. Default Arguments \n",
    "# Q1. What will be the output of the following function call, and why? \n",
    "# def func(a, b=6, c=8): \n",
    "# print(a, b, c) \n",
    "# func(1, 2)\n",
    "\n",
    "def func(a, b=6, c=8): \n",
    "    print(a, b, c) \n",
    "\n",
    "func(1, 2)"
   ]
  },
  {
   "cell_type": "code",
   "execution_count": 5,
   "id": "765e21a5-bad9-4a8f-8314-7060ac10f040",
   "metadata": {},
   "outputs": [
    {
     "name": "stdout",
     "output_type": "stream",
     "text": [
      "1 2 3\n"
     ]
    }
   ],
   "source": [
    "# 2. Keyword Arguments with Defaults \n",
    "# Q2. Predict the output and explain: \n",
    "# def func(a, b, c=5): \n",
    "# print(a, b, c) \n",
    "# func(1, c=3, b=2)\n",
    "\n",
    "def func(a, b, c=5): \n",
    "    print(a, b, c) \n",
    "\n",
    "func(1, c=3, b=2)"
   ]
  },
  {
   "cell_type": "code",
   "execution_count": 7,
   "id": "36697163-d0c9-443c-a128-3a61257244cc",
   "metadata": {},
   "outputs": [
    {
     "name": "stdout",
     "output_type": "stream",
     "text": [
      "1 (2, 3)\n"
     ]
    }
   ],
   "source": [
    "# 3. Positional Variable-Length Arguments \n",
    "# Q3. Explain the behavior and output: \n",
    "# def func(a, *pargs): \n",
    "# print(a, pargs) \n",
    "# func(1, 2, 3) \n",
    "\n",
    "def func(a, *pargs): \n",
    "    print(a, pargs) \n",
    "\n",
    "func(1, 2, 3)"
   ]
  },
  {
   "cell_type": "code",
   "execution_count": 11,
   "id": "fbffd13d-7444-4dc4-8910-10213c669b9c",
   "metadata": {},
   "outputs": [
    {
     "name": "stdout",
     "output_type": "stream",
     "text": [
      "1 {'c': 3, 'b': 2}\n"
     ]
    }
   ],
   "source": [
    "# 4. Keyword Variable-Length Arguments \n",
    "# Q4. What will this code print, and why? \n",
    "# def func(a, **kargs): \n",
    "# print(a, kargs) \n",
    "# func(a=1, c=3, b=2)\n",
    "\n",
    "def func(a, **kargs): \n",
    "    print(a, kargs) \n",
    "\n",
    "func(a=1, c=3, b=2)"
   ]
  },
  {
   "cell_type": "code",
   "execution_count": null,
   "id": "f7b80beb-9a71-49cb-8fe7-c4c31c0bec48",
   "metadata": {},
   "outputs": [],
   "source": [
    "5. Mixing Positional and Unpacked Tuple Arguments \n",
    "Q5. Explain the result of this call: \n",
    "def func(a, b, c=8, d=5): \n",
    "print(a, b, c, d) \n",
    "# func(1, *(5, 6))"
   ]
  }
 ],
 "metadata": {
  "kernelspec": {
   "display_name": "Python [conda env:base] *",
   "language": "python",
   "name": "conda-base-py"
  },
  "language_info": {
   "codemirror_mode": {
    "name": "ipython",
    "version": 3
   },
   "file_extension": ".py",
   "mimetype": "text/x-python",
   "name": "python",
   "nbconvert_exporter": "python",
   "pygments_lexer": "ipython3",
   "version": "3.12.7"
  }
 },
 "nbformat": 4,
 "nbformat_minor": 5
}
