{
 "cells": [
  {
   "cell_type": "code",
   "execution_count": 1,
   "id": "3d3ea6c8-97f8-4d8d-8310-290f0211c8a9",
   "metadata": {},
   "outputs": [],
   "source": [
    "# Time Calculations and Prime Number Generator"
   ]
  },
  {
   "cell_type": "code",
   "execution_count": 3,
   "id": "786420af-8538-41b0-8c35-99ed63c525c2",
   "metadata": {},
   "outputs": [
    {
     "name": "stdout",
     "output_type": "stream",
     "text": [
      "Seconds in an hour: 3600\n"
     ]
    }
   ],
   "source": [
    "# 1. Seconds in an Hour \n",
    "# Use Python to calculate how many seconds are in one hour. Multiply the number of seconds \n",
    "# in a minute by the number of minutes in an hour. \n",
    "\n",
    "\n",
    "seconds_in_minute = 60\n",
    "minutes_in_hour = 60\n",
    "seconds_in_hour = seconds_in_minute * minutes_in_hour\n",
    "print(\"Seconds in an hour:\", seconds_in_hour)\n"
   ]
  },
  {
   "cell_type": "code",
   "execution_count": 5,
   "id": "1a483bb6-5692-46f2-9267-b6cc6a559a56",
   "metadata": {},
   "outputs": [
    {
     "name": "stdout",
     "output_type": "stream",
     "text": [
      "seconds_per_hour = 3600\n"
     ]
    }
   ],
   "source": [
    "# 2. Store the Result in a Variable \n",
    "# Assign the result from Question 1 to a variable called seconds_per_hour and print it. \n",
    "\n",
    "seconds_per_hour = seconds_in_hour\n",
    "print(\"seconds_per_hour =\", seconds_per_hour)"
   ]
  },
  {
   "cell_type": "code",
   "execution_count": 7,
   "id": "e1c84f03-7c34-4302-b1b8-e3b669a2ad73",
   "metadata": {},
   "outputs": [
    {
     "name": "stdout",
     "output_type": "stream",
     "text": [
      "Seconds in a day (calculated): 86400\n"
     ]
    }
   ],
   "source": [
    "# 3. Calculate Seconds in a Day \n",
    "# Estimate how many seconds are in a day. Use the variable seconds_per_hour and any other \n",
    "# variables you may need.\n",
    "\n",
    "hours_in_day = 24\n",
    "seconds_in_day = seconds_per_hour * hours_in_day\n",
    "print(\"Seconds in a day (calculated):\", seconds_in_day)"
   ]
  },
  {
   "cell_type": "code",
   "execution_count": 9,
   "id": "29864506-084b-40e4-ad53-df349e91ee00",
   "metadata": {},
   "outputs": [
    {
     "name": "stdout",
     "output_type": "stream",
     "text": [
      "seconds_per_day = 86400\n"
     ]
    }
   ],
   "source": [
    "# 4. Save Seconds Per Day in a Variable \n",
    "# Recalculate the number of seconds in a day and assign the result to a variable called \n",
    "# seconds_per_day. Print the value.\n",
    "\n",
    "seconds_per_day = seconds_per_hour * 24\n",
    "print(\"seconds_per_day =\", seconds_per_day)"
   ]
  },
  {
   "cell_type": "code",
   "execution_count": 11,
   "id": "e4a734fa-3a2d-47fb-ac35-2e9eb9bf31dd",
   "metadata": {},
   "outputs": [
    {
     "name": "stdout",
     "output_type": "stream",
     "text": [
      "Floating point division: 24.0\n"
     ]
    }
   ],
   "source": [
    "# 5. Floating-Point Division \n",
    "# Divide seconds_per_day by seconds_per_hour using floating-point division (/). What \n",
    "# result do you get? \n",
    "\n",
    "float_div = seconds_per_day / seconds_per_hour\n",
    "print(\"Floating point division:\", float_div)"
   ]
  },
  {
   "cell_type": "code",
   "execution_count": null,
   "id": "30951f2b-2558-4e37-967d-814df43f12cc",
   "metadata": {},
   "outputs": [],
   "source": []
  }
 ],
 "metadata": {
  "kernelspec": {
   "display_name": "Python [conda env:base] *",
   "language": "python",
   "name": "conda-base-py"
  },
  "language_info": {
   "codemirror_mode": {
    "name": "ipython",
    "version": 3
   },
   "file_extension": ".py",
   "mimetype": "text/x-python",
   "name": "python",
   "nbconvert_exporter": "python",
   "pygments_lexer": "ipython3",
   "version": "3.12.7"
  }
 },
 "nbformat": 4,
 "nbformat_minor": 5
}
