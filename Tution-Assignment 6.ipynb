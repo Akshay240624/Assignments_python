{
 "cells": [
  {
   "cell_type": "code",
   "execution_count": 1,
   "id": "bf9bcb91-b4d1-46f0-829f-c3a3f26725e7",
   "metadata": {},
   "outputs": [],
   "source": [
    "# 1. Short Answer Questions"
   ]
  },
  {
   "cell_type": "code",
   "execution_count": 3,
   "id": "6904991d-b5a1-4fda-b9b6-a2fc0fcedde9",
   "metadata": {},
   "outputs": [
    {
     "name": "stdout",
     "output_type": "stream",
     "text": [
      "8\n",
      "8\n"
     ]
    }
   ],
   "source": [
    "# # Q1. Explain the difference between def statements and lambda expressions. Give an \n",
    "# # example of each.\n",
    "\n",
    "# | Feature   | `def` Statement                                  | `lambda` Expression                                               |\n",
    "# | --------- | ------------------------------------------------ | ----------------------------------------------------------------- |\n",
    "# | Syntax    | Uses the `def` keyword to define named functions | Uses the `lambda` keyword to define anonymous (unnamed) functions |\n",
    "# | Name      | Has a name (e.g., `def add():`)                  | Usually assigned to a variable or used directly                   |\n",
    "# | Code Body | Can contain multiple statements                  | Can contain only one expression                                   |\n",
    "# | Example   | `def add(a, b): return a + b`                    | `lambda a, b: a + b`                                              |\n",
    "\n",
    "\n",
    "def add(a, b):\n",
    "    return a + b\n",
    "\n",
    "\n",
    "add_lambda = lambda a, b: a + b\n",
    "\n",
    "print(add(3, 5))        \n",
    "print(add_lambda(3, 5)) "
   ]
  },
  {
   "cell_type": "code",
   "execution_count": 5,
   "id": "ba46614c-7345-4ea5-adab-33f46bdd2920",
   "metadata": {},
   "outputs": [],
   "source": [
    "# # Q2. List and explain three benefits of using lambda expressions.\n",
    "\n",
    "# Concise syntax: One-line function definitions make code shorter and cleaner.\n",
    "\n",
    "# Useful for functional tools: Works well with functions like map(), filter(), and reduce().\n",
    "\n",
    "# Improves readability in small tasks: No need to define full named functions for quick operation"
   ]
  },
  {
   "cell_type": "code",
   "execution_count": 7,
   "id": "ebfc0cf2-5cb0-4860-ac40-8a86dd820433",
   "metadata": {},
   "outputs": [
    {
     "name": "stdout",
     "output_type": "stream",
     "text": [
      "[2, 4, 6, 8, 10]\n",
      "[2, 4]\n",
      "15\n"
     ]
    }
   ],
   "source": [
    "# # Q3. Compare map(), filter(), and reduce() with one-line examples using a lambda \n",
    "# # function and a list\n",
    "\n",
    "# | Function   | Purpose                                              | Example                                             |\n",
    "# | ---------- | ---------------------------------------------------- | --------------------------------------------------- |\n",
    "# | `map()`    | Applies a function to each element in a sequence     | `list(map(lambda x: x*2, [1,2,3])) → [2,4,6]`       |\n",
    "# | `filter()` | Selects elements based on a condition                | `list(filter(lambda x: x%2==0, [1,2,3,4])) → [2,4]` |\n",
    "# | `reduce()` | Reduces a list to a single value (needs `functools`) | `reduce(lambda x,y: x*y, [1,2,3,4]) → 24`           |\n",
    "\n",
    "from functools import reduce\n",
    "\n",
    "nums = [1, 2, 3, 4, 5]\n",
    "print(list(map(lambda x: x * 2, nums)))      # map\n",
    "print(list(filter(lambda x: x % 2 == 0, nums)))  # filter\n",
    "print(reduce(lambda x, y: x + y, nums))      # reduce"
   ]
  },
  {
   "cell_type": "code",
   "execution_count": 11,
   "id": "a60aa863-7f38-43fd-a7e0-cf330f2be5ef",
   "metadata": {},
   "outputs": [
    {
     "name": "stdout",
     "output_type": "stream",
     "text": [
      "Hello Akshay, you are 21 years old!\n"
     ]
    }
   ],
   "source": [
    "# # Q4. What are function annotations in Python? Write a function that uses them.\n",
    "\n",
    "# Definition:\n",
    "# Function annotations are metadata information about the types of parameters and return values.\n",
    "# They don’t affect the execution, but help in documentation and code readability.\n",
    "\n",
    "def greet(name: str, age: int) -> str:\n",
    "    return f\"Hello {name}, you are {age} years old!\"\n",
    "\n",
    "print(greet(\"Akshay\", 21))"
   ]
  },
  {
   "cell_type": "code",
   "execution_count": 13,
   "id": "78e4b625-b94e-45d2-9558-28cb2c5e6e2c",
   "metadata": {},
   "outputs": [
    {
     "name": "stdout",
     "output_type": "stream",
     "text": [
      "120\n"
     ]
    }
   ],
   "source": [
    "# Q5. What is a recursive function? Write a simple recursive function to calculate the \n",
    "# factorial of a number.\n",
    "\n",
    "def factorial(n):\n",
    "    if n == 1:\n",
    "        return 1\n",
    "    else:\n",
    "        return n * factorial(n - 1)\n",
    "\n",
    "print(factorial(5))  "
   ]
  },
  {
   "cell_type": "code",
   "execution_count": 15,
   "id": "9446e134-54df-4af7-b719-33a5fce59f3d",
   "metadata": {},
   "outputs": [],
   "source": [
    "# # Q6. State five design guidelines you should follow while writing functions in Python\n",
    "\n",
    "\n",
    "# Keep functions small and focused — do one task only.\n",
    "\n",
    "# Use meaningful names for readability.\n",
    "\n",
    "# Always use docstrings to explain purpose and parameters.\n",
    "\n",
    "# Use default arguments and annotations where useful.\n",
    "\n",
    "# Avoid side effects (changing global variables unintentionally)."
   ]
  },
  {
   "cell_type": "code",
   "execution_count": 17,
   "id": "10bd5418-043c-465e-8d79-9df9c6c1cb08",
   "metadata": {},
   "outputs": [
    {
     "name": "stdout",
     "output_type": "stream",
     "text": [
      "Printed Output\n",
      "Yielded Output\n"
     ]
    }
   ],
   "source": [
    "# # Q7. Name at least three ways a function can communicate results to a caller and briefly \n",
    "# # explain each. \n",
    "\n",
    "# Method\tDescription\tExample\n",
    "# Return\tSends a value back to caller\treturn value\n",
    "# Print\tDisplays output directly on screen\tprint(\"Hello\")\n",
    "# Yield\tReturns a generator (used in loops)\tyield x\n",
    "\n",
    "def test_func():\n",
    "    print(\"Printed Output\")      \n",
    "    yield \"Yielded Output\"       \n",
    "    return \"Returned Output\"     \n",
    "\n",
    "gen = test_func()\n",
    "print(next(gen))"
   ]
  },
  {
   "cell_type": "code",
   "execution_count": 19,
   "id": "74e25461-7392-48a2-b443-cf4b6263b05b",
   "metadata": {},
   "outputs": [],
   "source": [
    "# 2. Coding Tasks "
   ]
  },
  {
   "cell_type": "code",
   "execution_count": 21,
   "id": "b07c3954-4486-4d01-b686-d78bcdff9389",
   "metadata": {},
   "outputs": [
    {
     "name": "stdout",
     "output_type": "stream",
     "text": [
      "35\n"
     ]
    }
   ],
   "source": [
    "# Task 1: \n",
    "# Write a lambda function that takes two numbers and returns their product. Assign it to a \n",
    "# variable and call it with 5 and 7. \n",
    "\n",
    "multiply = lambda a, b: a * b\n",
    "print(multiply(5, 7))  "
   ]
  },
  {
   "cell_type": "code",
   "execution_count": 23,
   "id": "2acaf1b9-e1a0-47ff-83fe-706ef2551497",
   "metadata": {},
   "outputs": [
    {
     "name": "stdout",
     "output_type": "stream",
     "text": [
      "[1, 4, 9, 16, 25]\n"
     ]
    }
   ],
   "source": [
    "# Task 2: \n",
    "# Use map() to square every number in a list [1, 2, 3, 4, 5].\n",
    "\n",
    "nums = [1, 2, 3, 4, 5]\n",
    "squares = list(map(lambda x: x ** 2, nums))\n",
    "print(squares)  "
   ]
  },
  {
   "cell_type": "code",
   "execution_count": 25,
   "id": "ce45e983-dfe5-44eb-bde3-e0dfe6039af2",
   "metadata": {},
   "outputs": [
    {
     "name": "stdout",
     "output_type": "stream",
     "text": [
      "[10, 20, 30]\n"
     ]
    }
   ],
   "source": [
    "# Task 3: \n",
    "# Use filter() to extract only the even numbers from the list [10, 15, 20, 25, 30].\n",
    "\n",
    "nums = [10, 15, 20, 25, 30]\n",
    "evens = list(filter(lambda x: x % 2 == 0, nums))\n",
    "print(evens)  "
   ]
  },
  {
   "cell_type": "code",
   "execution_count": 27,
   "id": "5aa930c6-c5cb-4632-8221-5c9c7726c0bd",
   "metadata": {},
   "outputs": [
    {
     "name": "stdout",
     "output_type": "stream",
     "text": [
      "120\n"
     ]
    }
   ],
   "source": [
    "# Task 4: \n",
    "# Use reduce() from functools to calculate the product of numbers in [1, 2, 3, 4, 5]. \n",
    "\n",
    "from functools import reduce\n",
    "nums = [1, 2, 3, 4, 5]\n",
    "product = reduce(lambda x, y: x * y, nums)\n",
    "print(product)  "
   ]
  },
  {
   "cell_type": "code",
   "execution_count": null,
   "id": "416b74d7-8a6f-48cf-9e43-4cbf6c9d0bd3",
   "metadata": {},
   "outputs": [],
   "source": [
    "# Task 5: \n",
    "# Create a function with annotations that: \n",
    "# • takes an integer as input, \n",
    "# • returns a string saying whether it is \"Even\" or \"Odd\"."
   ]
  }
 ],
 "metadata": {
  "kernelspec": {
   "display_name": "Python [conda env:base] *",
   "language": "python",
   "name": "conda-base-py"
  },
  "language_info": {
   "codemirror_mode": {
    "name": "ipython",
    "version": 3
   },
   "file_extension": ".py",
   "mimetype": "text/x-python",
   "name": "python",
   "nbconvert_exporter": "python",
   "pygments_lexer": "ipython3",
   "version": "3.12.7"
  }
 },
 "nbformat": 4,
 "nbformat_minor": 5
}
